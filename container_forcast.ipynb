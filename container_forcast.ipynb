{
 "cells": [
  {
   "cell_type": "markdown",
   "metadata": {},
   "source": [
    "# Container forcast using raindom forest model\n",
    "\n",
    "In this project, we aims the build a prediction model for container throughput in Thailand port. \n",
    "\n",
    "We first load all the data collected throughout year 2001-2021. This included inbound and outbound container throughput. As for the features, we use features as follows\n",
    "\n",
    "- Consumer price index\n",
    "- Export value\n",
    "- Import value\n",
    "- GDP constant\n",
    "- Inflation rate\n",
    "- Interest rate\n",
    "- Manufacture product index\n",
    "- Population\n",
    "- Unemployment rate\n",
    "- USD to THB conversion rate"
   ]
  },
  {
   "cell_type": "code",
   "execution_count": 3,
   "metadata": {},
   "outputs": [],
   "source": [
    "import numpy as np\n",
    "import pandas as pd"
   ]
  },
  {
   "cell_type": "markdown",
   "metadata": {},
   "source": [
    "# Loading label for model prediction"
   ]
  },
  {
   "cell_type": "code",
   "execution_count": 4,
   "metadata": {},
   "outputs": [
    {
     "data": {
      "text/html": [
       "<div>\n",
       "<style scoped>\n",
       "    .dataframe tbody tr th:only-of-type {\n",
       "        vertical-align: middle;\n",
       "    }\n",
       "\n",
       "    .dataframe tbody tr th {\n",
       "        vertical-align: top;\n",
       "    }\n",
       "\n",
       "    .dataframe thead th {\n",
       "        text-align: right;\n",
       "    }\n",
       "</style>\n",
       "<table border=\"1\" class=\"dataframe\">\n",
       "  <thead>\n",
       "    <tr style=\"text-align: right;\">\n",
       "      <th></th>\n",
       "      <th>year</th>\n",
       "      <th>month</th>\n",
       "      <th>inbound</th>\n",
       "      <th>outbound</th>\n",
       "    </tr>\n",
       "  </thead>\n",
       "  <tbody>\n",
       "    <tr>\n",
       "      <th>0</th>\n",
       "      <td>2002</td>\n",
       "      <td>January</td>\n",
       "      <td>107493</td>\n",
       "      <td>96214</td>\n",
       "    </tr>\n",
       "    <tr>\n",
       "      <th>1</th>\n",
       "      <td>2002</td>\n",
       "      <td>February</td>\n",
       "      <td>97798</td>\n",
       "      <td>97257</td>\n",
       "    </tr>\n",
       "    <tr>\n",
       "      <th>2</th>\n",
       "      <td>2002</td>\n",
       "      <td>March</td>\n",
       "      <td>111474</td>\n",
       "      <td>112393</td>\n",
       "    </tr>\n",
       "    <tr>\n",
       "      <th>3</th>\n",
       "      <td>2002</td>\n",
       "      <td>April</td>\n",
       "      <td>101110</td>\n",
       "      <td>107746</td>\n",
       "    </tr>\n",
       "    <tr>\n",
       "      <th>4</th>\n",
       "      <td>2002</td>\n",
       "      <td>May</td>\n",
       "      <td>112976</td>\n",
       "      <td>119299</td>\n",
       "    </tr>\n",
       "  </tbody>\n",
       "</table>\n",
       "</div>"
      ],
      "text/plain": [
       "   year     month  inbound  outbound\n",
       "0  2002   January   107493     96214\n",
       "1  2002  February    97798     97257\n",
       "2  2002     March   111474    112393\n",
       "3  2002     April   101110    107746\n",
       "4  2002       May   112976    119299"
      ]
     },
     "execution_count": 4,
     "metadata": {},
     "output_type": "execute_result"
    }
   ],
   "source": [
    "label_df = pd.read_csv(\"container_throughput_label.csv\")\n",
    "label_df.head()\n"
   ]
  },
  {
   "cell_type": "markdown",
   "metadata": {},
   "source": [
    "# Load features for model prediction"
   ]
  },
  {
   "cell_type": "code",
   "execution_count": 5,
   "metadata": {},
   "outputs": [],
   "source": [
    "exportval_df = pd.read_csv(\"export_value.csv\")\n",
    "gdp_df = pd.read_csv(\"GDP_constant.csv\")\n",
    "importval_df = pd.read_csv(\"import_value.csv\")\n",
    "inflate_df = pd.read_csv(\"inflation_%.csv\")\n",
    "interest_df = pd.read_csv(\"interest_rate.csv\")\n",
    "manu_df = pd.read_csv(\"manufac_prod_index.csv\")\n",
    "pop_df = pd.read_csv(\"population.csv\")\n",
    "unemp_df = pd.read_csv(\"unemployment.csv\")\n",
    "ex_df = pd.read_csv(\"usd_thb.csv\")\n",
    "cons_df = pd.read_csv(\"consumer_price_index.csv\")"
   ]
  },
  {
   "cell_type": "code",
   "execution_count": 6,
   "metadata": {},
   "outputs": [],
   "source": [
    "exportval_df = exportval_df.drop('id', axis=1)\n",
    "\n",
    "exportval_df = exportval_df[[\"year\", \"month\", \"export_value\"]]\n",
    "exportval_df['export_value'] = exportval_df['export_value'].map(lambda x: x.replace(',', ''))\n",
    "exportval_df['export_value'] = pd.to_numeric(exportval_df['export_value'])"
   ]
  },
  {
   "cell_type": "code",
   "execution_count": 7,
   "metadata": {},
   "outputs": [],
   "source": [
    "gdp_df = gdp_df.drop('id', axis=1)\n",
    "\n",
    "gdp_df = gdp_df[[\"year\", \"month\", \"GDP_constant\"]]\n",
    "gdp_df['GDP_constant'] = gdp_df['GDP_constant'].map(lambda x: x.replace(',', ''))\n",
    "gdp_df['GDP_constant'] = pd.to_numeric(gdp_df['GDP_constant'])"
   ]
  },
  {
   "cell_type": "code",
   "execution_count": 8,
   "metadata": {},
   "outputs": [],
   "source": [
    "importval_df = importval_df.drop('id', axis=1)\n",
    "\n",
    "importval_df = importval_df[[\"year\", \"month\", \"import_value\"]]\n",
    "importval_df['import_value'] = importval_df['import_value'].map(lambda x: x.replace(',', ''))\n",
    "importval_df['import_value'] = pd.to_numeric(importval_df['import_value'])"
   ]
  },
  {
   "cell_type": "code",
   "execution_count": 9,
   "metadata": {},
   "outputs": [],
   "source": [
    "inflate_df = inflate_df.drop('id', axis=1)\n",
    "\n",
    "inflate_df = inflate_df[[\"year\", \"month\", \"inflation_percentage_change\"]]\n",
    "inflate_df['inflation_percentage_change'] = inflate_df['inflation_percentage_change'].map(lambda x: x.replace('%', ''))\n",
    "inflate_df['inflation_percentage_change'] = pd.to_numeric(inflate_df['inflation_percentage_change'])"
   ]
  },
  {
   "cell_type": "code",
   "execution_count": 10,
   "metadata": {},
   "outputs": [],
   "source": [
    "interest_df = interest_df.drop('id', axis=1)\n",
    "\n",
    "interest_df = interest_df[[\"year\", \"month\", \"interest_rate\"]]\n",
    "interest_df['interest_rate'] = pd.to_numeric(interest_df['interest_rate'])"
   ]
  },
  {
   "cell_type": "code",
   "execution_count": 11,
   "metadata": {},
   "outputs": [],
   "source": [
    "manu_df = manu_df.drop('id', axis=1)\n",
    "\n",
    "manu_df = manu_df[[\"year\", \"month\", \"manufac_prod_index\"]]\n",
    "manu_df['manufac_prod_index'] = pd.to_numeric(manu_df['manufac_prod_index'])"
   ]
  },
  {
   "cell_type": "code",
   "execution_count": 12,
   "metadata": {},
   "outputs": [],
   "source": [
    "pop_df = pop_df.drop('id', axis=1)\n",
    "\n",
    "pop_df = pop_df[[\"year\", \"month\", \"population\"]]\n",
    "pop_df['population'] = pop_df['population'].map(lambda x: x.replace(',', ''))\n",
    "pop_df['population'] = pd.to_numeric(pop_df['population'])"
   ]
  },
  {
   "cell_type": "code",
   "execution_count": 13,
   "metadata": {},
   "outputs": [],
   "source": [
    "unemp_df = unemp_df.drop('id', axis=1)\n",
    "\n",
    "unemp_df = unemp_df[[\"year\", \"month\", \"unemployment_rate\"]]\n",
    "unemp_df = unemp_df.replace(' n.a. ', np.nan)\n",
    "unemp_df['unemployment_rate'] = pd.to_numeric(unemp_df['unemployment_rate'])"
   ]
  },
  {
   "cell_type": "code",
   "execution_count": 14,
   "metadata": {},
   "outputs": [],
   "source": [
    "ex_df = ex_df.drop('id', axis=1)\n",
    "\n",
    "ex_df = ex_df[[\"year\", \"month\", \"exchange_rate\"]]\n",
    "ex_df = ex_df.replace(' n.a. ', np.nan)\n",
    "ex_df['exchange_rate'] = pd.to_numeric(ex_df['exchange_rate'])"
   ]
  },
  {
   "cell_type": "code",
   "execution_count": 15,
   "metadata": {},
   "outputs": [],
   "source": [
    "cons_df = cons_df.drop('id', axis=1)\n",
    "\n",
    "cons_df = cons_df[[\"year\", \"month\", \"consumer_price_index\"]]\n",
    "cons_df = cons_df.replace(' n.a. ', np.nan)\n",
    "cons_df['consumer_price_index'] = pd.to_numeric(cons_df['consumer_price_index'])"
   ]
  },
  {
   "cell_type": "markdown",
   "metadata": {},
   "source": [
    "# Merge all Dataframe into one"
   ]
  },
  {
   "cell_type": "code",
   "execution_count": 16,
   "metadata": {},
   "outputs": [],
   "source": [
    "months = ['January', 'February', 'March', 'April', 'May', \n",
    "'June', 'July', 'August', 'September', 'October', 'November', 'December']\n",
    "\n",
    "f_df = pd.DataFrame(data={'year': np.array([[year]*12 for year in range(2001,2022)]).flatten(),\n",
    "                        'month': months*21 })\n"
   ]
  },
  {
   "cell_type": "code",
   "execution_count": 17,
   "metadata": {},
   "outputs": [],
   "source": [
    "f_df = pd.merge(left=f_df, right=exportval_df, how='left', on=['year','month'])\n",
    "f_df = pd.merge(left=f_df, right=gdp_df, how='left', on=['year','month'])\n",
    "f_df = pd.merge(left=f_df, right=importval_df, how='left', on=['year','month'])\n",
    "f_df = pd.merge(left=f_df, right=inflate_df, how='left', on=['year','month'])\n",
    "f_df = pd.merge(left=f_df, right=interest_df, how='left', on=['year','month'])\n",
    "f_df = pd.merge(left=f_df, right=manu_df, how='left', on=['year','month'])\n",
    "f_df = pd.merge(left=f_df, right=pop_df, how='left', on=['year','month'])\n",
    "f_df = pd.merge(left=f_df, right=unemp_df, how='left', on=['year','month'])\n",
    "f_df = pd.merge(left=f_df, right=ex_df, how='left', on=['year','month'])\n",
    "f_df = pd.merge(left=f_df, right=cons_df, how='left', on=['year','month'])"
   ]
  },
  {
   "cell_type": "code",
   "execution_count": 18,
   "metadata": {},
   "outputs": [
    {
     "data": {
      "text/html": [
       "<div>\n",
       "<style scoped>\n",
       "    .dataframe tbody tr th:only-of-type {\n",
       "        vertical-align: middle;\n",
       "    }\n",
       "\n",
       "    .dataframe tbody tr th {\n",
       "        vertical-align: top;\n",
       "    }\n",
       "\n",
       "    .dataframe thead th {\n",
       "        text-align: right;\n",
       "    }\n",
       "</style>\n",
       "<table border=\"1\" class=\"dataframe\">\n",
       "  <thead>\n",
       "    <tr style=\"text-align: right;\">\n",
       "      <th></th>\n",
       "      <th>year</th>\n",
       "      <th>month</th>\n",
       "      <th>export_value</th>\n",
       "      <th>GDP_constant</th>\n",
       "      <th>import_value</th>\n",
       "      <th>inflation_percentage_change</th>\n",
       "      <th>interest_rate</th>\n",
       "      <th>manufac_prod_index</th>\n",
       "      <th>population</th>\n",
       "      <th>unemployment_rate</th>\n",
       "      <th>exchange_rate</th>\n",
       "      <th>consumer_price_index</th>\n",
       "    </tr>\n",
       "  </thead>\n",
       "  <tbody>\n",
       "    <tr>\n",
       "      <th>0</th>\n",
       "      <td>2001</td>\n",
       "      <td>January</td>\n",
       "      <td>279973.0</td>\n",
       "      <td>459359.0</td>\n",
       "      <td>255061.0</td>\n",
       "      <td>0.72</td>\n",
       "      <td>2.5</td>\n",
       "      <td>52.47</td>\n",
       "      <td>62308887.0</td>\n",
       "      <td>5.73</td>\n",
       "      <td>43.12</td>\n",
       "      <td>68.8</td>\n",
       "    </tr>\n",
       "    <tr>\n",
       "      <th>1</th>\n",
       "      <td>2001</td>\n",
       "      <td>February</td>\n",
       "      <td>279973.0</td>\n",
       "      <td>459359.0</td>\n",
       "      <td>255061.0</td>\n",
       "      <td>0.44</td>\n",
       "      <td>2.0</td>\n",
       "      <td>53.02</td>\n",
       "      <td>62308887.0</td>\n",
       "      <td>4.25</td>\n",
       "      <td>42.64</td>\n",
       "      <td>69.1</td>\n",
       "    </tr>\n",
       "    <tr>\n",
       "      <th>2</th>\n",
       "      <td>2001</td>\n",
       "      <td>March</td>\n",
       "      <td>279973.0</td>\n",
       "      <td>459359.0</td>\n",
       "      <td>255061.0</td>\n",
       "      <td>0.00</td>\n",
       "      <td>2.0</td>\n",
       "      <td>52.18</td>\n",
       "      <td>62308887.0</td>\n",
       "      <td>4.04</td>\n",
       "      <td>43.90</td>\n",
       "      <td>69.1</td>\n",
       "    </tr>\n",
       "    <tr>\n",
       "      <th>3</th>\n",
       "      <td>2001</td>\n",
       "      <td>April</td>\n",
       "      <td>283056.0</td>\n",
       "      <td>442241.0</td>\n",
       "      <td>255379.0</td>\n",
       "      <td>0.72</td>\n",
       "      <td>2.0</td>\n",
       "      <td>51.29</td>\n",
       "      <td>62308887.0</td>\n",
       "      <td>4.06</td>\n",
       "      <td>45.46</td>\n",
       "      <td>69.6</td>\n",
       "    </tr>\n",
       "    <tr>\n",
       "      <th>4</th>\n",
       "      <td>2001</td>\n",
       "      <td>May</td>\n",
       "      <td>283056.0</td>\n",
       "      <td>442241.0</td>\n",
       "      <td>255379.0</td>\n",
       "      <td>0.29</td>\n",
       "      <td>2.0</td>\n",
       "      <td>52.51</td>\n",
       "      <td>62308887.0</td>\n",
       "      <td>4.24</td>\n",
       "      <td>45.48</td>\n",
       "      <td>69.8</td>\n",
       "    </tr>\n",
       "  </tbody>\n",
       "</table>\n",
       "</div>"
      ],
      "text/plain": [
       "   year     month  export_value  GDP_constant  import_value  \\\n",
       "0  2001   January      279973.0      459359.0      255061.0   \n",
       "1  2001  February      279973.0      459359.0      255061.0   \n",
       "2  2001     March      279973.0      459359.0      255061.0   \n",
       "3  2001     April      283056.0      442241.0      255379.0   \n",
       "4  2001       May      283056.0      442241.0      255379.0   \n",
       "\n",
       "   inflation_percentage_change  interest_rate  manufac_prod_index  population  \\\n",
       "0                         0.72            2.5               52.47  62308887.0   \n",
       "1                         0.44            2.0               53.02  62308887.0   \n",
       "2                         0.00            2.0               52.18  62308887.0   \n",
       "3                         0.72            2.0               51.29  62308887.0   \n",
       "4                         0.29            2.0               52.51  62308887.0   \n",
       "\n",
       "   unemployment_rate  exchange_rate  consumer_price_index  \n",
       "0               5.73          43.12                  68.8  \n",
       "1               4.25          42.64                  69.1  \n",
       "2               4.04          43.90                  69.1  \n",
       "3               4.06          45.46                  69.6  \n",
       "4               4.24          45.48                  69.8  "
      ]
     },
     "execution_count": 18,
     "metadata": {},
     "output_type": "execute_result"
    }
   ],
   "source": [
    "f_df.head()"
   ]
  }
 ],
 "metadata": {
  "interpreter": {
   "hash": "397704579725e15f5c7cb49fe5f0341eb7531c82d19f2c29d197e8b64ab5776b"
  },
  "kernelspec": {
   "display_name": "Python 3.9.10 64-bit",
   "language": "python",
   "name": "python3"
  },
  "language_info": {
   "codemirror_mode": {
    "name": "ipython",
    "version": 3
   },
   "file_extension": ".py",
   "mimetype": "text/x-python",
   "name": "python",
   "nbconvert_exporter": "python",
   "pygments_lexer": "ipython3",
   "version": "3.9.10"
  },
  "orig_nbformat": 4
 },
 "nbformat": 4,
 "nbformat_minor": 2
}
