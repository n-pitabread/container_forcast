{
 "cells": [
  {
   "cell_type": "markdown",
   "metadata": {},
   "source": [
    "# Container forcast using raindom forest model\n",
    "\n",
    "In this project, we aims the build a prediction model for container throughput in Thailand port. \n",
    "\n",
    "We first load all the data collected throughout year 2001-2021. This included inbound and outbound container throughput. As for the features, we use features as follows\n",
    "\n",
    "- Consumer price index\n",
    "- Export value\n",
    "- Import value\n",
    "- GDP constant\n",
    "- Inflation rate\n",
    "- Interest rate\n",
    "- Manufacture product index\n",
    "- Population\n",
    "- Unemployment rate\n",
    "- USD to THB conversion rate"
   ]
  },
  {
   "cell_type": "code",
   "execution_count": 2,
   "metadata": {},
   "outputs": [],
   "source": [
    "import numpy as np\n",
    "import pandas as pd"
   ]
  },
  {
   "cell_type": "markdown",
   "metadata": {},
   "source": [
    "# Loading label for model prediction"
   ]
  },
  {
   "cell_type": "code",
   "execution_count": 3,
   "metadata": {},
   "outputs": [
    {
     "data": {
      "text/html": [
       "<div>\n",
       "<style scoped>\n",
       "    .dataframe tbody tr th:only-of-type {\n",
       "        vertical-align: middle;\n",
       "    }\n",
       "\n",
       "    .dataframe tbody tr th {\n",
       "        vertical-align: top;\n",
       "    }\n",
       "\n",
       "    .dataframe thead th {\n",
       "        text-align: right;\n",
       "    }\n",
       "</style>\n",
       "<table border=\"1\" class=\"dataframe\">\n",
       "  <thead>\n",
       "    <tr style=\"text-align: right;\">\n",
       "      <th></th>\n",
       "      <th>year</th>\n",
       "      <th>month</th>\n",
       "      <th>inbound</th>\n",
       "      <th>outbound</th>\n",
       "    </tr>\n",
       "  </thead>\n",
       "  <tbody>\n",
       "    <tr>\n",
       "      <th>0</th>\n",
       "      <td>2001</td>\n",
       "      <td>1</td>\n",
       "      <td>91751</td>\n",
       "      <td>82123</td>\n",
       "    </tr>\n",
       "    <tr>\n",
       "      <th>1</th>\n",
       "      <td>2001</td>\n",
       "      <td>2</td>\n",
       "      <td>83475</td>\n",
       "      <td>83014</td>\n",
       "    </tr>\n",
       "    <tr>\n",
       "      <th>2</th>\n",
       "      <td>2001</td>\n",
       "      <td>3</td>\n",
       "      <td>95149</td>\n",
       "      <td>95933</td>\n",
       "    </tr>\n",
       "    <tr>\n",
       "      <th>3</th>\n",
       "      <td>2001</td>\n",
       "      <td>4</td>\n",
       "      <td>86302</td>\n",
       "      <td>91967</td>\n",
       "    </tr>\n",
       "    <tr>\n",
       "      <th>4</th>\n",
       "      <td>2001</td>\n",
       "      <td>5</td>\n",
       "      <td>96431</td>\n",
       "      <td>101828</td>\n",
       "    </tr>\n",
       "  </tbody>\n",
       "</table>\n",
       "</div>"
      ],
      "text/plain": [
       "   year  month  inbound  outbound\n",
       "0  2001      1    91751     82123\n",
       "1  2001      2    83475     83014\n",
       "2  2001      3    95149     95933\n",
       "3  2001      4    86302     91967\n",
       "4  2001      5    96431    101828"
      ]
     },
     "execution_count": 3,
     "metadata": {},
     "output_type": "execute_result"
    }
   ],
   "source": [
    "month_to_int = {'January':1, 'February':2, 'March':3, 'April':4, 'May':5, \n",
    "'June':6, 'July':7, 'August':8, 'September':9, 'October':10, 'November':11, 'December':12}\n",
    "\n",
    "\n",
    "labels_df = pd.read_csv(\"container_throughput_label.csv\")\n",
    "labels_df['month'] = labels_df['month'].map(lambda x: month_to_int[x])\n",
    "\n",
    "labels_df.head()\n"
   ]
  },
  {
   "cell_type": "markdown",
   "metadata": {},
   "source": [
    "# Load features for model prediction"
   ]
  },
  {
   "cell_type": "code",
   "execution_count": 4,
   "metadata": {},
   "outputs": [
    {
     "data": {
      "text/html": [
       "<div>\n",
       "<style scoped>\n",
       "    .dataframe tbody tr th:only-of-type {\n",
       "        vertical-align: middle;\n",
       "    }\n",
       "\n",
       "    .dataframe tbody tr th {\n",
       "        vertical-align: top;\n",
       "    }\n",
       "\n",
       "    .dataframe thead th {\n",
       "        text-align: right;\n",
       "    }\n",
       "</style>\n",
       "<table border=\"1\" class=\"dataframe\">\n",
       "  <thead>\n",
       "    <tr style=\"text-align: right;\">\n",
       "      <th></th>\n",
       "      <th>year</th>\n",
       "      <th>month</th>\n",
       "      <th>export_value</th>\n",
       "      <th>GDP_constant</th>\n",
       "      <th>import_value</th>\n",
       "      <th>inflation_percentage_change</th>\n",
       "      <th>interest_rate</th>\n",
       "      <th>manufac_prod_index</th>\n",
       "      <th>population</th>\n",
       "      <th>unemployment_rate</th>\n",
       "      <th>exchange_rate</th>\n",
       "      <th>consumer_price_index</th>\n",
       "    </tr>\n",
       "  </thead>\n",
       "  <tbody>\n",
       "    <tr>\n",
       "      <th>0</th>\n",
       "      <td>2001</td>\n",
       "      <td>1</td>\n",
       "      <td>279973.0</td>\n",
       "      <td>459359.0</td>\n",
       "      <td>255061.0</td>\n",
       "      <td>0.72</td>\n",
       "      <td>2.5</td>\n",
       "      <td>52.47</td>\n",
       "      <td>62308887.0</td>\n",
       "      <td>5.73</td>\n",
       "      <td>43.12</td>\n",
       "      <td>68.8</td>\n",
       "    </tr>\n",
       "    <tr>\n",
       "      <th>1</th>\n",
       "      <td>2001</td>\n",
       "      <td>2</td>\n",
       "      <td>279973.0</td>\n",
       "      <td>459359.0</td>\n",
       "      <td>255061.0</td>\n",
       "      <td>0.44</td>\n",
       "      <td>2.0</td>\n",
       "      <td>53.02</td>\n",
       "      <td>62308887.0</td>\n",
       "      <td>4.25</td>\n",
       "      <td>42.64</td>\n",
       "      <td>69.1</td>\n",
       "    </tr>\n",
       "    <tr>\n",
       "      <th>2</th>\n",
       "      <td>2001</td>\n",
       "      <td>3</td>\n",
       "      <td>279973.0</td>\n",
       "      <td>459359.0</td>\n",
       "      <td>255061.0</td>\n",
       "      <td>0.00</td>\n",
       "      <td>2.0</td>\n",
       "      <td>52.18</td>\n",
       "      <td>62308887.0</td>\n",
       "      <td>4.04</td>\n",
       "      <td>43.90</td>\n",
       "      <td>69.1</td>\n",
       "    </tr>\n",
       "    <tr>\n",
       "      <th>3</th>\n",
       "      <td>2001</td>\n",
       "      <td>4</td>\n",
       "      <td>283056.0</td>\n",
       "      <td>442241.0</td>\n",
       "      <td>255379.0</td>\n",
       "      <td>0.72</td>\n",
       "      <td>2.0</td>\n",
       "      <td>51.29</td>\n",
       "      <td>62308887.0</td>\n",
       "      <td>4.06</td>\n",
       "      <td>45.46</td>\n",
       "      <td>69.6</td>\n",
       "    </tr>\n",
       "    <tr>\n",
       "      <th>4</th>\n",
       "      <td>2001</td>\n",
       "      <td>5</td>\n",
       "      <td>283056.0</td>\n",
       "      <td>442241.0</td>\n",
       "      <td>255379.0</td>\n",
       "      <td>0.29</td>\n",
       "      <td>2.0</td>\n",
       "      <td>52.51</td>\n",
       "      <td>62308887.0</td>\n",
       "      <td>4.24</td>\n",
       "      <td>45.48</td>\n",
       "      <td>69.8</td>\n",
       "    </tr>\n",
       "  </tbody>\n",
       "</table>\n",
       "</div>"
      ],
      "text/plain": [
       "   year  month  export_value  GDP_constant  import_value  \\\n",
       "0  2001      1      279973.0      459359.0      255061.0   \n",
       "1  2001      2      279973.0      459359.0      255061.0   \n",
       "2  2001      3      279973.0      459359.0      255061.0   \n",
       "3  2001      4      283056.0      442241.0      255379.0   \n",
       "4  2001      5      283056.0      442241.0      255379.0   \n",
       "\n",
       "   inflation_percentage_change  interest_rate  manufac_prod_index  population  \\\n",
       "0                         0.72            2.5               52.47  62308887.0   \n",
       "1                         0.44            2.0               53.02  62308887.0   \n",
       "2                         0.00            2.0               52.18  62308887.0   \n",
       "3                         0.72            2.0               51.29  62308887.0   \n",
       "4                         0.29            2.0               52.51  62308887.0   \n",
       "\n",
       "   unemployment_rate  exchange_rate  consumer_price_index  \n",
       "0               5.73          43.12                  68.8  \n",
       "1               4.25          42.64                  69.1  \n",
       "2               4.04          43.90                  69.1  \n",
       "3               4.06          45.46                  69.6  \n",
       "4               4.24          45.48                  69.8  "
      ]
     },
     "execution_count": 4,
     "metadata": {},
     "output_type": "execute_result"
    }
   ],
   "source": [
    "features_df = pd.read_csv(\"features.csv\")\n",
    "features_df = features_df.drop('id', axis=1)\n",
    "\n",
    "\n",
    "features_df['month'] = features_df['month'].map(lambda x: month_to_int[x])\n",
    "features_df = features_df.interpolate(axis=0)\n",
    "\n",
    "features_df.head()"
   ]
  },
  {
   "cell_type": "markdown",
   "metadata": {},
   "source": [
    "## Generate Training and Testing set"
   ]
  },
  {
   "cell_type": "code",
   "execution_count": 102,
   "metadata": {},
   "outputs": [],
   "source": [
    "from sklearn.ensemble import RandomForestRegressor\n",
    "from sklearn.model_selection import RandomizedSearchCV, GridSearchCV, train_test_split\n",
    "from sklearn.metrics import mean_absolute_error, mean_squared_error, mean_absolute_percentage_error\n",
    "from sklearn.tree import export_graphviz\n",
    "import pydot"
   ]
  },
  {
   "cell_type": "code",
   "execution_count": 6,
   "metadata": {},
   "outputs": [],
   "source": [
    "# Convert pandas dataframe to numpy array\n",
    "feature_list = list(features_df.columns)\n",
    "features = np.array(features_df)\n",
    "labels = np.array(labels_df.drop(['year','month'], axis=1))\n",
    "# Split data into training and testing set with 25% of test set\n",
    "train_features, test_features, train_labels, test_labels = train_test_split(features, \n",
    "                                                            labels, test_size=0.25, random_state=42)\n"
   ]
  },
  {
   "cell_type": "markdown",
   "metadata": {},
   "source": [
    "# Create Random forest model"
   ]
  },
  {
   "cell_type": "code",
   "execution_count": 98,
   "metadata": {},
   "outputs": [
    {
     "name": "stdout",
     "output_type": "stream",
     "text": [
      "{'n_estimators': [900], 'max_features': ['log2', 'sqrt', None], 'max_depth': [1, 25, 50, 75, 100, None], 'min_samples_split': [2, 5, 10], 'min_samples_leaf': [1, 2, 4], 'bootstrap': [True, False], 'random_state': [0, 12, 25, 37, 50]}\n"
     ]
    }
   ],
   "source": [
    "# Create set of parameters to perform parameter optimization\n",
    "# n_estimators = [int(x) for x in np.linspace(10000, 50000, num=3)]\n",
    "n_estimators = [900]\n",
    "max_features = ['log2', 'sqrt', None]\n",
    "max_depth = [int(x) for x in np.linspace(1, 100, num = 5)]\n",
    "max_depth.append(None)\n",
    "min_samples_split = [2, 5, 10]\n",
    "min_samples_leaf = [1, 2, 4]\n",
    "bootstrap = [True, False]\n",
    "random_state = [int(x) for x in np.linspace(0, 50, num=5)]\n",
    "\n",
    "random_grid = {'n_estimators': n_estimators,\n",
    "               'max_features': max_features,\n",
    "               'max_depth': max_depth,\n",
    "               'min_samples_split': min_samples_split,\n",
    "               'min_samples_leaf': min_samples_leaf,\n",
    "               'bootstrap': bootstrap,\n",
    "               'random_state': random_state}\n",
    "\n",
    "print(random_grid)"
   ]
  },
  {
   "cell_type": "markdown",
   "metadata": {},
   "source": [
    "# Train model"
   ]
  },
  {
   "cell_type": "code",
   "execution_count": 99,
   "metadata": {},
   "outputs": [
    {
     "name": "stdout",
     "output_type": "stream",
     "text": [
      "Fitting 3 folds for each of 100 candidates, totalling 300 fits\n"
     ]
    },
    {
     "data": {
      "text/plain": [
       "{'random_state': 50,\n",
       " 'n_estimators': 900,\n",
       " 'min_samples_split': 5,\n",
       " 'min_samples_leaf': 2,\n",
       " 'max_features': 'log2',\n",
       " 'max_depth': 75,\n",
       " 'bootstrap': True}"
      ]
     },
     "execution_count": 99,
     "metadata": {},
     "output_type": "execute_result"
    }
   ],
   "source": [
    "%timeit\n",
    "# Random search of parameters, using 3 fold cross validation, \n",
    "rf = RandomForestRegressor()\n",
    "rf_random = RandomizedSearchCV(estimator = rf, param_distributions = random_grid, n_iter = 100, \n",
    "                            cv = 3, scoring = 'neg_mean_absolute_error', verbose=1, \n",
    "                            random_state=42, n_jobs = -1)\n",
    "\n",
    "\n",
    "# Fit the random search model\n",
    "rf_random.fit(train_features, train_labels)\n",
    "rf_random.best_params_"
   ]
  },
  {
   "cell_type": "code",
   "execution_count": 100,
   "metadata": {},
   "outputs": [],
   "source": [
    "best_model = rf_random.best_estimator_\n",
    "best_model.fit(train_features, train_labels)\n",
    "predictions = best_model.predict(test_features)"
   ]
  },
  {
   "cell_type": "code",
   "execution_count": 109,
   "metadata": {},
   "outputs": [
    {
     "name": "stdout",
     "output_type": "stream",
     "text": [
      "Mean Absolute Error (MAE): 14946.331758365259\n",
      "Mean Squared Error (MSE): 383561103.8205525\n",
      "Root Mean Squared Error (RMSE): 122.2551911305416\n",
      "Mean Absolute Percentage Error (MAPE): 0.06523886339257695\n"
     ]
    }
   ],
   "source": [
    "# Print evaluation metric\n",
    "print(f'Mean Absolute Error (MAE): {mean_absolute_error(test_labels, predictions)}')\n",
    "print(f'Mean Squared Error (MSE): {mean_squared_error(test_labels, predictions)}')\n",
    "print(f'Root Mean Squared Error (RMSE): {np.sqrt(mean_absolute_error(test_labels, predictions))}')\n",
    "print(f'Mean Absolute Percentage Error (MAPE): {mean_absolute_percentage_error(test_labels, predictions)}')"
   ]
  },
  {
   "cell_type": "markdown",
   "metadata": {},
   "source": [
    "# Show a tree in Random forest"
   ]
  },
  {
   "cell_type": "code",
   "execution_count": 110,
   "metadata": {},
   "outputs": [],
   "source": [
    "tree = best_model.estimators_[0]\n",
    "export_graphviz(tree, out_file = 'tree.dot', feature_names = feature_list, rounded = True, precision = 1)\n",
    "\n",
    "(graph, ) = pydot.graph_from_dot_file('tree.dot')\n",
    "graph.write_png('tree.png')\n"
   ]
  },
  {
   "cell_type": "markdown",
   "metadata": {},
   "source": [
    "![](tree.png)"
   ]
  },
  {
   "cell_type": "markdown",
   "metadata": {},
   "source": []
  }
 ],
 "metadata": {
  "interpreter": {
   "hash": "397704579725e15f5c7cb49fe5f0341eb7531c82d19f2c29d197e8b64ab5776b"
  },
  "kernelspec": {
   "display_name": "Python 3.9.10 64-bit",
   "language": "python",
   "name": "python3"
  },
  "language_info": {
   "codemirror_mode": {
    "name": "ipython",
    "version": 3
   },
   "file_extension": ".py",
   "mimetype": "text/x-python",
   "name": "python",
   "nbconvert_exporter": "python",
   "pygments_lexer": "ipython3",
   "version": "3.9.13"
  },
  "orig_nbformat": 4
 },
 "nbformat": 4,
 "nbformat_minor": 2
}
